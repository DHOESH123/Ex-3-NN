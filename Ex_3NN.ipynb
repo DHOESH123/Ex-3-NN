{
  "cells": [
    {
      "cell_type": "code",
      "execution_count": 1,
      "metadata": {
        "id": "YHOBcnHOCJjL"
      },
      "outputs": [],
      "source": [
        "import numpy as np\n",
        "import pandas as pd\n",
        "import io\n",
        "import matplotlib.pyplot as plt"
      ]
    },
    {
      "cell_type": "code",
      "execution_count": 2,
      "metadata": {
        "id": "WXOlE_O2CJjN"
      },
      "outputs": [],
      "source": [
        "\n",
        "x=np.array([[0,0,1,1],[0,1,0,1]])\n",
        "y=np.array([[0,1,1,0]])"
      ]
    },
    {
      "cell_type": "code",
      "execution_count": 3,
      "metadata": {
        "id": "lhtK4jUtCJjN"
      },
      "outputs": [],
      "source": [
        "\n",
        "n_x =2\n",
        "n_y = 1\n",
        "n_h = 2\n",
        "m = x.shape[1]\n",
        "lr = 0.1\n",
        "\n"
      ]
    },
    {
      "cell_type": "code",
      "execution_count": 4,
      "metadata": {
        "id": "DRRTJhYgCJjO"
      },
      "outputs": [],
      "source": [
        "\n",
        "w1 = np.random.rand(n_h, n_x)\n",
        "w2 = np.random.rand(n_y, n_h)\n"
      ]
    },
    {
      "cell_type": "code",
      "execution_count": 5,
      "metadata": {
        "id": "eDt643QHCJjO"
      },
      "outputs": [],
      "source": [
        "losses = []\n",
        "def sigmoid(z):\n",
        "  return 1 / (1 + np.exp(-z))\n"
      ]
    },
    {
      "cell_type": "code",
      "execution_count": 6,
      "metadata": {
        "id": "5WytR46JCJjO"
      },
      "outputs": [],
      "source": [
        "def forward_prop(w1,w2,x):\n",
        "    z1 = np.dot(w1,x)\n",
        "    a1 = sigmoid(z1)\n",
        "    z2 = np.dot(w2,a1)\n",
        "    a2 = sigmoid(z2)\n",
        "    return z1,a1,z2,a2"
      ]
    },
    {
      "cell_type": "code",
      "execution_count": 7,
      "metadata": {
        "id": "GTUy10msCJjP"
      },
      "outputs": [],
      "source": [
        "\n",
        "\n",
        "\n",
        "\n",
        "\n",
        "def back_prop(m, w1, w2, z1, a1, z2, a2, y):\n",
        "  dz2 = a2 - y\n",
        "  dw2 = np.dot(dz2, a1.T) / m\n",
        "  dz1 = np.dot(w2.T, dz2) * a1 * (1 - a1)\n",
        "  dw1 = np.dot(dz1, x.T) / m\n",
        "  return dz2, dw2, dz1, dw1\n",
        "\n"
      ]
    },
    {
      "cell_type": "code",
      "execution_count": 8,
      "metadata": {
        "id": "wqwXiH6BCJjP"
      },
      "outputs": [],
      "source": [
        "\n",
        "iterations = 10000\n",
        "for i in range(iterations):\n",
        "  z1, a1, z2, a2 = forward_prop(w1, w2, x)\n",
        "  loss = -(1/m) * np.sum(y * np.log(a2) + (1 - y) * np.log(1 - a2))\n",
        "  losses.append(loss)\n",
        "  dz2, dw2, dz1, dw1 = back_prop(m, w1, w2, z1, a1, z2, a2, y)\n",
        "  w2 -= lr * dw2\n",
        "  w1 -= lr * dw1\n",
        "\n",
        "\n"
      ]
    },
    {
      "cell_type": "code",
      "execution_count": 9,
      "metadata": {
        "colab": {
          "base_uri": "https://localhost:8080/",
          "height": 466
        },
        "id": "7Tw3AwHBCJjP",
        "outputId": "383f2cfd-b09f-4355-f14d-9b95bf2c70b0"
      },
      "outputs": [
        {
          "output_type": "execute_result",
          "data": {
            "text/plain": [
              "Text(0, 0.5, 'Loss value')"
            ]
          },
          "metadata": {},
          "execution_count": 9
        },
        {
          "output_type": "display_data",
          "data": {
            "text/plain": [
              "<Figure size 640x480 with 1 Axes>"
            ],
            "image/png": "[encoded data removed]"
          },
          "metadata": {}
        }
      ],
      "source": [
        "\n",
        "plt.plot(losses)\n",
        "plt.xlabel(\"EPOCHS\")\n",
        "plt.ylabel(\"Loss value\")"
      ]
    },
    {
      "cell_type": "code",
      "execution_count": 10,
      "metadata": {
        "id": "XPlv7CsgCJjP"
      },
      "outputs": [],
      "source": [
        "\n",
        "def predict(w1, w2, input):\n",
        "  _, _, _, a2 = forward_prop(w1, w2, input)\n",
        "  result = 1 if np.squeeze(a2) >= 0.5 else 0\n",
        "  print(f\"Input: {[i[0] for i in input]}  Output: {result}\")\n",
        "\n",
        "\n"
      ]
    },
    {
      "cell_type": "code",
      "source": [
        "print('--- Prediction Results ---')\n",
        "predict(w1, w2, np.array([[1],[0]]))\n",
        "predict(w1, w2, np.array([[1],[1]]))\n",
        "predict(w1, w2, np.array([[0],[1]]))\n",
        "predict(w1, w2, np.array([[0],[0]]))"
      ],
      "metadata": {
        "colab": {
          "base_uri": "https://localhost:8080/"
        },
        "id": "CciW_uUsDMxt",
        "outputId": "ebd0deca-0f3d-4622-cbdd-84cc6756d36b"
      },
      "execution_count": 11,
      "outputs": [
        {
          "output_type": "stream",
          "name": "stdout",
          "text": [
            "--- Prediction Results ---\n",
            "Input: [np.int64(1), np.int64(0)]  Output: 1\n",
            "Input: [np.int64(1), np.int64(1)]  Output: 0\n",
            "Input: [np.int64(0), np.int64(1)]  Output: 1\n",
            "Input: [np.int64(0), np.int64(0)]  Output: 0\n"
          ]
        }
      ]
    },
    {
      "cell_type": "code",
      "source": [],
      "metadata": {
        "id": "U9ESE5xaDRzP"
      },
      "execution_count": null,
      "outputs": []
    }
  ],
  "metadata": {
    "kernelspec": {
      "display_name": "Python 3",
      "language": "python",
      "name": "python3"
    },
    "language_info": {
      "name": "python",
      "version": "3.10.6"
    },
    "colab": {
      "provenance": []
    }
  },
  "nbformat": 4,
  "nbformat_minor": 0
}